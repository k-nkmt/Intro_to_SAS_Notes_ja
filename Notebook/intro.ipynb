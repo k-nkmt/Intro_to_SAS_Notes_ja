{
 "cells": [
  {
   "cell_type": "markdown",
   "metadata": {},
   "source": [
    "# Preface\n",
    "\n",
    "These notes are largely based on on the course Introduction to R by John Mushcelli and Andrew Jaffe and are shared under the [Creative Commons Attribution-NonCommercial-ShareAlike 4.0 International License](https://creativecommons.org/licenses/by-nc-sa/4.0/), and Penn State courses STAT 480-482 which is shared under the creative commons license [CC BY-NC 4.0](https://creativecommons.org/licenses/by-nc/4.0/).\n",
    "\n",
    "You can find the original course materials at:\n",
    "\n",
    "* [John Muschelli's github](https://johnmuschelli.com/intro_to_r/)\n",
    "* [Penn State Stat Online](https://online.stat.psu.edu/statprogram/)."
   ]
  },
  {
   "cell_type": "code",
   "execution_count": null,
   "metadata": {},
   "outputs": [],
   "source": []
  }
 ],
 "metadata": {
  "kernelspec": {
   "display_name": "SAS",
   "language": "sas",
   "name": "sas"
  },
  "language_info": {
   "codemirror_mode": "sas",
   "file_extension": ".sas",
   "mimetype": "text/x-sas",
   "name": "sas"
  }
 },
 "nbformat": 4,
 "nbformat_minor": 2
}
