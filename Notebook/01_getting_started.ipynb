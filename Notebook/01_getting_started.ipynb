{
 "cells": [
  {
   "cell_type": "markdown",
   "metadata": {},
   "source": [
    "# Introduction\n",
    "\n",
    "Let's get started! This lesson is an overview of what the SAS statistical software application is all about. The purpose here is to get you acquainted with how the application works and is organized so that you can begin writing programs to manage and analyze the data that you have collected.\n",
    "\n",
    "Keep your eye out for important syntax rules for what the SAS application expects or needs from the user in order to perform the tasks that you want it to do.\n",
    "\n",
    "## What is SAS?\n",
    "\n",
    "\n",
    "\n",
    "SAS is a fourth-generation programming language (or 4GL). According to Wikipedia, a fourth-generation programming language is \"a programming language designed with a specific purpose in mind such as the development of commercial business software.\" All 4GLs are designed to reduce programming effort and minimize the time and cost it takes to develop software. That's just one of the benefits you will gain by learning SAS!\n",
    "\n",
    "What all this really means is that the SAS System is an integrated system of modular software products. It enables you to:\n",
    "\n",
    "* enter, retrieve and manage your data easily\n",
    "* create slick reports and pretty pictures\n",
    "* analyze your data statistically and mathematically\n",
    "* plan, forecast and make decisions concerning your business\n",
    "* manage your projects and perform research on how you conduct your operations\n",
    "* improve the quality of your processes, as well as\n",
    "* develop entirely new software applications.\n",
    "\n",
    "In addition, you can also use SAS for many large-scale functions, such as data warehousing, data mining, human resources management, decision support, and financial management.\n",
    "\n",
    "Originally, the acronym \"SAS\" stood for \"Statistical Analysis System.\" Because the system has now grown to be so diverse and can do so much more than perform statistical analyses, the SAS Institute now no longer treats \"SAS\" as an acronym, but rather the software's name.\n"
   ]
  },
  {
   "cell_type": "markdown",
   "metadata": {},
   "source": [
    "## Obtaining a Copy of SAS\n",
    "\n",
    "As a UF student, you have multiple options for gaining access to the SAS software.\n",
    "\n",
    "1. If you have a Windows PC (NOT a Mac), then you have the option of installing the SAS software directly on to your computer. The cost is approximately \\$35 to obtain the installation DVDs. More information can  be found at [UF's statistical software liscencing page](https://helpdesk.ufl.edu/software-services/spss/). You can purchase the software at  the UF Computing Helpdesk at the  Hub. You  may keep access for as long as you are a student. This option is only available if you are able to come to campus in person to buy the software. They will not mail it.\n",
    "\n",
    "If you are Mac user, or you are a PC user and are off campus or want to consider other options, check these out:\n",
    "\n",
    "2. You can gain access from ANY computer, tablet or smartphone via [UFApps](http://apps.ufl.edu). This will not install SAS on your computer, but rather you will have full and FREE access to the latest version of SAS through a remote desktop setup. In addition to SAS, you will also have FREE access to JMP, STATA, SPSS, Mathematica, Minitab, Mathcad, ArgGIS, and a host of other great (an typically expensive) programs. Access is free for as long as you are a student.\n",
    "\n",
    "3. SAS University Edition. This is a free access version of SAS itself. See the [SAS University Edition web site](https://www.sas.com/en_us/software/university-edition.html) for information on how to download this software. You can use this on either a PC or a Mac. You will need to download a free virtualization software for your computer (VM VirtualBox), and then download the virtualization software for SAS that runs in VirtualBox. Be sure to follow the instructions provided by SAS for installing SAS Univeristy Edition and setting up the shared folder carefully.\n",
    "\n",
    "4. SAS OnDemand for Academics. Basically the same as SAS University Edition but runs through SAS cloud servers. This is also free but works through a browser instead of the virtualization software. See the [SAS OnDemand for Academics webpage](https://www.sas.com/en_us/software/on-demand-for-academics.html) for more information on how to sign up with SAS to get access.\n",
    "\n",
    "Note that with whichever one you select, you will need to contact the corresponding provider (UF Helpdesk or SAS) for techinical help (i.e non SAS coding issues such as installation and setup) as I may not be familiar with these techinical issues. "
   ]
  }
 ],
 "metadata": {
  "kernelspec": {
   "display_name": "SAS",
   "language": "sas",
   "name": "sas"
  },
  "language_info": {
   "codemirror_mode": "sas",
   "file_extension": ".sas",
   "mimetype": "text/x-sas",
   "name": "sas"
  }
 },
 "nbformat": 4,
 "nbformat_minor": 2
}
